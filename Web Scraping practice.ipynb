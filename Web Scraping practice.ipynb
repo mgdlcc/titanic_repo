{
 "cells": [
  {
   "cell_type": "code",
   "execution_count": 1,
   "id": "fa724fb8",
   "metadata": {},
   "outputs": [],
   "source": [
    "import requests\n",
    "from bs4 import BeautifulSoup"
   ]
  },
  {
   "cell_type": "code",
   "execution_count": 2,
   "id": "d2641f6b",
   "metadata": {},
   "outputs": [],
   "source": [
    "html_string = \"\"\"\n",
    "<!DOCTYPE html>\n",
    "<html>\n",
    "<head>\n",
    "<style>\n",
    "table, th, td {\n",
    "  border: 1px solid black;\n",
    "}\n",
    "</style>\n",
    "</head>\n",
    "<body>\n",
    "\n",
    "<h2>Table With Border</h2>\n",
    "\n",
    "<p>Use the CSS border property to add a border to the table.</p>\n",
    "\n",
    "<table style=\"width:100%\">\n",
    "  <tr>\n",
    "    <th>Firstname</th>\n",
    "    <th>Lastname</th> \n",
    "    <th>Age</th>\n",
    "  </tr>\n",
    "  <tr>\n",
    "    <td>Jill</td>\n",
    "    <td>Smith</td>\n",
    "    <td>50</td>\n",
    "  </tr>\n",
    "  <tr>\n",
    "    <td>Eve</td>\n",
    "    <td>Jackson</td>\n",
    "    <td>94</td>\n",
    "  </tr>\n",
    "  <tr>\n",
    "    <td>John</td>\n",
    "    <td>Doe</td>\n",
    "    <td>80</td>\n",
    "  </tr>\n",
    "</table>\n",
    "\n",
    "</body>\n",
    "</html>\n",
    "\"\"\""
   ]
  },
  {
   "cell_type": "code",
   "execution_count": 3,
   "id": "c326be57",
   "metadata": {},
   "outputs": [
    {
     "data": {
      "text/html": [
       "\n",
       "<!DOCTYPE html>\n",
       "<html>\n",
       "<head>\n",
       "<style>\n",
       "table, th, td {\n",
       "  border: 1px solid black;\n",
       "}\n",
       "</style>\n",
       "</head>\n",
       "<body>\n",
       "\n",
       "<h2>Table With Border</h2>\n",
       "\n",
       "<p>Use the CSS border property to add a border to the table.</p>\n",
       "\n",
       "<table style=\"width:100%\">\n",
       "  <tr>\n",
       "    <th>Firstname</th>\n",
       "    <th>Lastname</th> \n",
       "    <th>Age</th>\n",
       "  </tr>\n",
       "  <tr>\n",
       "    <td>Jill</td>\n",
       "    <td>Smith</td>\n",
       "    <td>50</td>\n",
       "  </tr>\n",
       "  <tr>\n",
       "    <td>Eve</td>\n",
       "    <td>Jackson</td>\n",
       "    <td>94</td>\n",
       "  </tr>\n",
       "  <tr>\n",
       "    <td>John</td>\n",
       "    <td>Doe</td>\n",
       "    <td>80</td>\n",
       "  </tr>\n",
       "</table>\n",
       "\n",
       "</body>\n",
       "</html>\n"
      ],
      "text/plain": [
       "<IPython.core.display.HTML object>"
      ]
     },
     "metadata": {},
     "output_type": "display_data"
    }
   ],
   "source": [
    "from IPython.core.display import display, HTML\n",
    "display(HTML(html_string))"
   ]
  },
  {
   "cell_type": "code",
   "execution_count": 4,
   "id": "25551d69",
   "metadata": {},
   "outputs": [],
   "source": [
    "ps = BeautifulSoup(html_string)"
   ]
  },
  {
   "cell_type": "code",
   "execution_count": 5,
   "id": "b61f5cc1",
   "metadata": {},
   "outputs": [
    {
     "name": "stdout",
     "output_type": "stream",
     "text": [
      "<!DOCTYPE html>\n",
      "<html>\n",
      "<head>\n",
      "<style>\n",
      "table, th, td {\n",
      "  border: 1px solid black;\n",
      "}\n",
      "</style>\n",
      "</head>\n",
      "<body>\n",
      "<h2>Table With Border</h2>\n",
      "<p>Use the CSS border property to add a border to the table.</p>\n",
      "<table style=\"width:100%\">\n",
      "<tr>\n",
      "<th>Firstname</th>\n",
      "<th>Lastname</th>\n",
      "<th>Age</th>\n",
      "</tr>\n",
      "<tr>\n",
      "<td>Jill</td>\n",
      "<td>Smith</td>\n",
      "<td>50</td>\n",
      "</tr>\n",
      "<tr>\n",
      "<td>Eve</td>\n",
      "<td>Jackson</td>\n",
      "<td>94</td>\n",
      "</tr>\n",
      "<tr>\n",
      "<td>John</td>\n",
      "<td>Doe</td>\n",
      "<td>80</td>\n",
      "</tr>\n",
      "</table>\n",
      "</body>\n",
      "</html>\n",
      "\n"
     ]
    }
   ],
   "source": [
    "print(ps)"
   ]
  },
  {
   "cell_type": "code",
   "execution_count": 6,
   "id": "138f9c51",
   "metadata": {},
   "outputs": [],
   "source": [
    "body = ps.find(name=\"body\")"
   ]
  },
  {
   "cell_type": "code",
   "execution_count": 9,
   "id": "c4d26d0c",
   "metadata": {},
   "outputs": [
    {
     "name": "stdout",
     "output_type": "stream",
     "text": [
      "<body>\n",
      "<h2>Table With Border</h2>\n",
      "<p>Use the CSS border property to add a border to the table.</p>\n",
      "<table style=\"width:100%\">\n",
      "<tr>\n",
      "<th>Firstname</th>\n",
      "<th>Lastname</th>\n",
      "<th>Age</th>\n",
      "</tr>\n",
      "<tr>\n",
      "<td>Jill</td>\n",
      "<td>Smith</td>\n",
      "<td>50</td>\n",
      "</tr>\n",
      "<tr>\n",
      "<td>Eve</td>\n",
      "<td>Jackson</td>\n",
      "<td>94</td>\n",
      "</tr>\n",
      "<tr>\n",
      "<td>John</td>\n",
      "<td>Doe</td>\n",
      "<td>80</td>\n",
      "</tr>\n",
      "</table>\n",
      "</body>\n"
     ]
    }
   ],
   "source": [
    "print(body)"
   ]
  },
  {
   "cell_type": "code",
   "execution_count": 10,
   "id": "5309f29b",
   "metadata": {},
   "outputs": [
    {
     "name": "stdout",
     "output_type": "stream",
     "text": [
      "Table With Border\n"
     ]
    }
   ],
   "source": [
    "print(body.find(name=\"h2\").text)"
   ]
  },
  {
   "cell_type": "code",
   "execution_count": 11,
   "id": "125e3650",
   "metadata": {},
   "outputs": [
    {
     "name": "stdout",
     "output_type": "stream",
     "text": [
      "Use the CSS border property to add a border to the table.\n"
     ]
    }
   ],
   "source": [
    "print(body.find(name=\"p\").text)"
   ]
  },
  {
   "cell_type": "code",
   "execution_count": 13,
   "id": "697fa33f",
   "metadata": {},
   "outputs": [
    {
     "name": "stdout",
     "output_type": "stream",
     "text": [
      "[<p>Use the CSS border property to add a border to the table.</p>]\n"
     ]
    }
   ],
   "source": [
    "print(body.findAll(name=\"p\"))"
   ]
  },
  {
   "cell_type": "code",
   "execution_count": 18,
   "id": "baec605a",
   "metadata": {},
   "outputs": [
    {
     "name": "stdout",
     "output_type": "stream",
     "text": [
      "Jill\n",
      "Smith\n",
      "50\n",
      "Eve\n",
      "Jackson\n",
      "94\n",
      "John\n",
      "Doe\n",
      "80\n"
     ]
    }
   ],
   "source": [
    "for td in body.findAll(name=\"td\"):\n",
    "    print(td.text)"
   ]
  },
  {
   "cell_type": "code",
   "execution_count": 25,
   "id": "cd821a46",
   "metadata": {},
   "outputs": [
    {
     "name": "stdout",
     "output_type": "stream",
     "text": [
      "Jill Smith\n",
      "Eve Jackson\n",
      "John Doe\n"
     ]
    }
   ],
   "source": [
    "body = ps.find(name=\"body\")\n",
    "module_table = body\n",
    "for row in module_table.findAll(name='tr')[1:]:\n",
    "    title = row.findAll(name='td')[0].text\n",
    "    duration = (row.findAll(name='td')[1].text)\n",
    "    print(title, duration)"
   ]
  },
  {
   "cell_type": "code",
   "execution_count": 5,
   "id": "63548f37",
   "metadata": {},
   "outputs": [
    {
     "ename": "SyntaxError",
     "evalue": "invalid syntax (Temp/ipykernel_7028/2231469758.py, line 1)",
     "output_type": "error",
     "traceback": [
      "\u001b[1;36m  File \u001b[1;32m\"C:\\Users\\mgiov\\AppData\\Local\\Temp/ipykernel_7028/2231469758.py\"\u001b[1;36m, line \u001b[1;32m1\u001b[0m\n\u001b[1;33m    cookiecutter -c https://github.com/drivendata/cookiecutter-data-science\u001b[0m\n\u001b[1;37m                    ^\u001b[0m\n\u001b[1;31mSyntaxError\u001b[0m\u001b[1;31m:\u001b[0m invalid syntax\n"
     ]
    }
   ],
   "source": [
    "cookiecutter -c https://github.com/drivendata/cookiecutter-data-science"
   ]
  },
  {
   "cell_type": "code",
   "execution_count": 2,
   "id": "82a68a22",
   "metadata": {},
   "outputs": [
    {
     "ename": "SyntaxError",
     "evalue": "invalid syntax (Temp/ipykernel_7028/2542911427.py, line 1)",
     "output_type": "error",
     "traceback": [
      "\u001b[1;36m  File \u001b[1;32m\"C:\\Users\\mgiov\\AppData\\Local\\Temp/ipykernel_7028/2542911427.py\"\u001b[1;36m, line \u001b[1;32m1\u001b[0m\n\u001b[1;33m    $ pip install cookiecutter\u001b[0m\n\u001b[1;37m    ^\u001b[0m\n\u001b[1;31mSyntaxError\u001b[0m\u001b[1;31m:\u001b[0m invalid syntax\n"
     ]
    }
   ],
   "source": [
    "$ pip install cookiecutter"
   ]
  },
  {
   "cell_type": "code",
   "execution_count": 3,
   "id": "bc11f57e",
   "metadata": {},
   "outputs": [
    {
     "name": "stdout",
     "output_type": "stream",
     "text": [
      "Requirement already satisfied: cookiecutter in c:\\programdata\\anaconda3\\lib\\site-packages (1.7.2)\n",
      "Requirement already satisfied: jinja2-time>=0.2.0 in c:\\programdata\\anaconda3\\lib\\site-packages (from cookiecutter) (0.2.0)\n",
      "Requirement already satisfied: six>=1.10 in c:\\programdata\\anaconda3\\lib\\site-packages (from cookiecutter) (1.16.0)\n",
      "Requirement already satisfied: Jinja2<3.0.0 in c:\\programdata\\anaconda3\\lib\\site-packages (from cookiecutter) (2.11.3)\n",
      "Requirement already satisfied: MarkupSafe<2.0.0 in c:\\programdata\\anaconda3\\lib\\site-packages (from cookiecutter) (1.1.1)\n",
      "Requirement already satisfied: poyo>=0.5.0 in c:\\programdata\\anaconda3\\lib\\site-packages (from cookiecutter) (0.5.0)\n",
      "Requirement already satisfied: requests>=2.23.0 in c:\\programdata\\anaconda3\\lib\\site-packages (from cookiecutter) (2.26.0)\n",
      "Requirement already satisfied: click>=7.0 in c:\\programdata\\anaconda3\\lib\\site-packages (from cookiecutter) (8.0.3)\n",
      "Requirement already satisfied: python-slugify>=4.0.0 in c:\\programdata\\anaconda3\\lib\\site-packages (from cookiecutter) (5.0.2)\n",
      "Requirement already satisfied: binaryornot>=0.4.4 in c:\\programdata\\anaconda3\\lib\\site-packages (from cookiecutter) (0.4.4)\n",
      "Requirement already satisfied: chardet>=3.0.2 in c:\\programdata\\anaconda3\\lib\\site-packages (from binaryornot>=0.4.4->cookiecutter) (4.0.0)\n",
      "Requirement already satisfied: colorama in c:\\programdata\\anaconda3\\lib\\site-packages (from click>=7.0->cookiecutter) (0.4.4)\n",
      "Requirement already satisfied: arrow in c:\\programdata\\anaconda3\\lib\\site-packages (from jinja2-time>=0.2.0->cookiecutter) (0.13.1)\n",
      "Requirement already satisfied: text-unidecode>=1.3 in c:\\programdata\\anaconda3\\lib\\site-packages (from python-slugify>=4.0.0->cookiecutter) (1.3)\n",
      "Requirement already satisfied: idna<4,>=2.5 in c:\\programdata\\anaconda3\\lib\\site-packages (from requests>=2.23.0->cookiecutter) (3.2)\n",
      "Requirement already satisfied: certifi>=2017.4.17 in c:\\programdata\\anaconda3\\lib\\site-packages (from requests>=2.23.0->cookiecutter) (2021.10.8)\n",
      "Requirement already satisfied: urllib3<1.27,>=1.21.1 in c:\\programdata\\anaconda3\\lib\\site-packages (from requests>=2.23.0->cookiecutter) (1.26.7)\n",
      "Requirement already satisfied: charset-normalizer~=2.0.0 in c:\\programdata\\anaconda3\\lib\\site-packages (from requests>=2.23.0->cookiecutter) (2.0.4)\n",
      "Requirement already satisfied: python-dateutil in c:\\programdata\\anaconda3\\lib\\site-packages (from arrow->jinja2-time>=0.2.0->cookiecutter) (2.8.2)\n",
      "Note: you may need to restart the kernel to use updated packages.\n"
     ]
    }
   ],
   "source": [
    "pip install cookiecutter"
   ]
  },
  {
   "cell_type": "code",
   "execution_count": null,
   "id": "9939bf77",
   "metadata": {},
   "outputs": [],
   "source": []
  }
 ],
 "metadata": {
  "kernelspec": {
   "display_name": "Python 3 (ipykernel)",
   "language": "python",
   "name": "python3"
  },
  "language_info": {
   "codemirror_mode": {
    "name": "ipython",
    "version": 3
   },
   "file_extension": ".py",
   "mimetype": "text/x-python",
   "name": "python",
   "nbconvert_exporter": "python",
   "pygments_lexer": "ipython3",
   "version": "3.9.7"
  }
 },
 "nbformat": 4,
 "nbformat_minor": 5
}
